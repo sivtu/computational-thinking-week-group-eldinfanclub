{
 "cells": [
  {
   "attachments": {},
   "cell_type": "markdown",
   "metadata": {},
   "source": [
    "# Observation Challenge\n",
    "\n",
    "In this challenge, you have to create an algorithm based on several algorithm parts.\n",
    "\n",
    "## Stations\n",
    "Across the JK building, we have placed several stations. At each station, you can find sample inputs and their expected outputs for one of the algorithm parts.\n",
    "You must decipher the algorithm behind each station yourself.\n",
    "The locations of all the stations are listed where Lukas and Roland are sitting.\n",
    "\n",
    "# Your task\n",
    "- Create files in this directory named station1.py, station2.py, etc.\n",
    "- Each member of the team must commit (including any changes) at least one of these files.\n",
    "- Each of these files contains a function named solution_station_X(), where X is the station number, same as the file name\n",
    "- Fill out the cell below and generate the correct overall output\n",
    "- You are allowed to use all built-in Python modules, as well as numpy and pandas in your solutions."
   ]
  },
  {
   "cell_type": "code",
   "execution_count": null,
   "metadata": {},
   "outputs": [
    {
     "ename": "ValueError",
     "evalue": "Name David not found in any LT group",
     "output_type": "error",
     "traceback": [
      "\u001b[1;31m---------------------------------------------------------------------------\u001b[0m",
      "\u001b[1;31mValueError\u001b[0m                                Traceback (most recent call last)",
      "Cell \u001b[1;32mIn[1], line 36\u001b[0m\n\u001b[0;32m     34\u001b[0m FINAL_OUTPUT1 \u001b[38;5;241m=\u001b[39m combined_algorithm(observation1)\n\u001b[0;32m     35\u001b[0m FINAL_OUTPUT2 \u001b[38;5;241m=\u001b[39m combined_algorithm(observation2)\n\u001b[1;32m---> 36\u001b[0m FINAL_OUTPUT3 \u001b[38;5;241m=\u001b[39m combined_algorithm(observation3)\n\u001b[0;32m     37\u001b[0m tests\u001b[38;5;241m.\u001b[39mTest_Exercise(combined_algorithm)\n",
      "Cell \u001b[1;32mIn[1], line 22\u001b[0m, in \u001b[0;36mcombined_algorithm\u001b[1;34m(observations)\u001b[0m\n\u001b[0;32m     20\u001b[0m output3 \u001b[38;5;241m=\u001b[39m solution_station_3(observations[\u001b[38;5;241m3\u001b[39m])\n\u001b[0;32m     21\u001b[0m output4 \u001b[38;5;241m=\u001b[39m solution_station_4(observations[\u001b[38;5;241m4\u001b[39m])\n\u001b[1;32m---> 22\u001b[0m output5 \u001b[38;5;241m=\u001b[39m solution_station_5(observations[\u001b[38;5;241m5\u001b[39m])\n\u001b[0;32m     23\u001b[0m output6 \u001b[38;5;241m=\u001b[39m solution_station_6(observations[\u001b[38;5;241m6\u001b[39m])\n\u001b[0;32m     24\u001b[0m output7 \u001b[38;5;241m=\u001b[39m solution_station_7(observations[\u001b[38;5;241m7\u001b[39m])\n",
      "File \u001b[1;32mc:\\Users\\nkres\\robot-camp-group\\challenge_day2\\station5.py:15\u001b[0m, in \u001b[0;36msolution_station_5\u001b[1;34m(name)\u001b[0m\n\u001b[0;32m     13\u001b[0m \u001b[38;5;28;01mif\u001b[39;00m name \u001b[38;5;129;01min\u001b[39;00m LT5: \u001b[38;5;28;01mreturn\u001b[39;00m \u001b[38;5;241m5\u001b[39m\n\u001b[0;32m     14\u001b[0m \u001b[38;5;28;01mif\u001b[39;00m name \u001b[38;5;129;01min\u001b[39;00m LT6: \u001b[38;5;28;01mreturn\u001b[39;00m \u001b[38;5;241m6\u001b[39m\n\u001b[1;32m---> 15\u001b[0m \u001b[38;5;28;01mraise\u001b[39;00m \u001b[38;5;167;01mValueError\u001b[39;00m(\u001b[38;5;124mf\u001b[39m\u001b[38;5;124m\"\u001b[39m\u001b[38;5;124mName \u001b[39m\u001b[38;5;132;01m{\u001b[39;00mname\u001b[38;5;132;01m}\u001b[39;00m\u001b[38;5;124m not found in any LT group\u001b[39m\u001b[38;5;124m\"\u001b[39m)\n",
      "\u001b[1;31mValueError\u001b[0m: Name David not found in any LT group"
     ]
    }
   ],
   "source": [
    "from tests import tests\n",
    "from station1 import solution_station_1\n",
    "from station2 import solution_station_2\n",
    "from station3 import solution_station_3\n",
    "from station4 import solution_station_4\n",
    "from station5 import solution_station_5\n",
    "from station6 import solution_station_6\n",
    "from station7 import solution_station_7\n",
    "\n",
    "# List three observations of all inputs (not sample inputs) observed at the same time\n",
    "# Format: (time: str, station1_input: int, station2_input: str, station3_input: int, station4_input: int, station5_input: str, station6_input: int, station7_input: str)\n",
    "# Example: ('12:30:00', 1, '1990-01-01', 2, 3, \"John\", 4, \"e=mc^2\")\n",
    "observation1 = ('10:36:00', 17, '2024-11-06', 58435, 5843, 'Alissa', 58, 'e*b+a')\n",
    "observation2 = ('10:38:20', 63, '2024-02-01', 86585, 8658, 'Ivan', 86, 'e*a*b+c')\n",
    "observation3 = ('10:39:40', 93, '2024-01-18', 10913, 1091, 'David G', 10, 'c*e+a')\n",
    "\n",
    "def combined_algorithm(observations: tuple) -> int:\n",
    "    output1 = solution_station_1(observations[1])\n",
    "    output2 = solution_station_2(observations[2])\n",
    "    output3 = solution_station_3(observations[3])\n",
    "    output4 = solution_station_4(observations[4])\n",
    "    output5 = solution_station_5(observations[5])\n",
    "    output6 = solution_station_6(observations[6])\n",
    "    output7 = solution_station_7(observations[7])\n",
    "    assert isinstance(output1, int)\n",
    "    assert isinstance(output2, str)\n",
    "    assert isinstance(output3, bool)\n",
    "    assert isinstance(output4, bool)\n",
    "    assert isinstance(output5, int)\n",
    "    assert isinstance(output6, float)\n",
    "    assert isinstance(output7, float)\n",
    "    return output1 * int.from_bytes(output2[0].encode(\"unicode_escape\"), byteorder='big') * (3 if output3 else 2) * (5 if output4 else 4) * output5 * output6 * output7\n",
    "\n",
    "FINAL_OUTPUT1 = combined_algorithm(observation1)\n",
    "FINAL_OUTPUT2 = combined_algorithm(observation2)\n",
    "FINAL_OUTPUT3 = combined_algorithm(observation3)\n",
    "tests.Test_Exercise(combined_algorithm);"
   ]
  }
 ],
 "metadata": {
  "kernelspec": {
   "display_name": "base",
   "language": "python",
   "name": "python3"
  },
  "language_info": {
   "codemirror_mode": {
    "name": "ipython",
    "version": 3
   },
   "file_extension": ".py",
   "mimetype": "text/x-python",
   "name": "python",
   "nbconvert_exporter": "python",
   "pygments_lexer": "ipython3",
   "version": "3.12.4"
  },
  "orig_nbformat": 4
 },
 "nbformat": 4,
 "nbformat_minor": 2
}
